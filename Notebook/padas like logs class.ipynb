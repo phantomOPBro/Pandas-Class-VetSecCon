{
 "cells": [
  {
   "cell_type": "markdown",
   "metadata": {},
   "source": [
    "# Welcome to the live demo of 'Pandas Like Logs'"
   ]
  },
  {
   "cell_type": "markdown",
   "metadata": {},
   "source": [
    "<img src=\"data:image/png;base64,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\" alt=\"Red dot\" />"
   ]
  },
  {
   "cell_type": "markdown",
   "metadata": {},
   "source": [
    "Image pulled from https://pypi.org/project/pandas/"
   ]
  },
  {
   "cell_type": "markdown",
   "metadata": {},
   "source": [
    "### Today, we'll see some uses for python pandas as we sift through some logs. \n",
    "<br>\n",
    "<li>We'll start by looking at some network logs. For this, we'll use bro logs collected from aktaion2 github.</li>\n",
    "<li>Then, we'll move on to searching through a group of logs for a set of Indicators of Compromise. Pandas makes this easy. We'll even add a labeling column for any hits we find.</li>\n",
    "<li>Last, we'll talk about some host based logs and look for anomilies that we may find there.</li>"
   ]
  },
  {
   "cell_type": "markdown",
   "metadata": {},
   "source": [
    "# Part 1 - Network logs"
   ]
  },
  {
   "cell_type": "markdown",
   "metadata": {},
   "source": [
    "There may be times when you have to export some logs (or have them given to you) and you'll have to sift through them for malicious or at least suspicious things. This is an example of that. "
   ]
  },
  {
   "cell_type": "markdown",
   "metadata": {},
   "source": [
    "## import pandas and some other things"
   ]
  },
  {
   "cell_type": "code",
   "execution_count": null,
   "metadata": {},
   "outputs": [],
   "source": [
    "import pandas as pd\n",
    "import datetime\n",
    "import re\n",
    "import logparser as lp "
   ]
  },
  {
   "cell_type": "markdown",
   "metadata": {},
   "source": [
    "## Initialize the variable you'll use to hold the text from the files (we will regex these files later to parse them)"
   ]
  },
  {
   "cell_type": "code",
   "execution_count": null,
   "metadata": {},
   "outputs": [],
   "source": [
    "x= \"\""
   ]
  },
  {
   "cell_type": "markdown",
   "metadata": {},
   "source": [
    "## Read the file (i'm doing one at a time, there are defintely better ways to do it)"
   ]
  },
  {
   "cell_type": "code",
   "execution_count": null,
   "metadata": {},
   "outputs": [],
   "source": [
    "with open('/Users/sacamero/Documents/Pandas class/bro_http01.log') as f:\n",
    "    x = f.readlines()"
   ]
  },
  {
   "cell_type": "code",
   "execution_count": null,
   "metadata": {},
   "outputs": [],
   "source": [
    "x"
   ]
  },
  {
   "cell_type": "markdown",
   "metadata": {},
   "source": [
    "## Regex your fields to parse the logs"
   ]
  },
  {
   "cell_type": "code",
   "execution_count": null,
   "metadata": {},
   "outputs": [],
   "source": [
    "bro_http = re.compile('^.*(?P<time>\\d{10})\\.\\d{6}\\s\\w+\\s(?P<src_ip>\\d{1,3}\\.\\d{1,3}\\.\\d{1,3}\\.\\d{1,3})\\s(?P<src_port>\\d+?)\\s(?P<dst_ip>\\d{1,3}\\.\\d{1,3}\\.\\d{1,3}\\.\\d{1,3})\\s(?P<dst_port>\\d+?)\\s\\d+\\s(?P<method>[A-Z]{3,4})\\s(?P<domain>[\\w\\.\\-]+)\\s(?P<uri>.+?)\\s(?P<referer>.+?)\\s(?P<user_agent>.+?)\\s\\d+\\s\\d+\\s(?P<response_code>\\d{3}|-)\\s(?P<response_message>.+?)\\s')"
   ]
  },
  {
   "cell_type": "code",
   "execution_count": null,
   "metadata": {},
   "outputs": [],
   "source": [
    "df = lp.parse_messages(x,bro_http)"
   ]
  },
  {
   "cell_type": "code",
   "execution_count": null,
   "metadata": {},
   "outputs": [],
   "source": [
    "with open('/Users/sacamero/Documents/Pandas class/bro_http02.log') as f:\n",
    "    x = f.readlines()"
   ]
  },
  {
   "cell_type": "code",
   "execution_count": null,
   "metadata": {},
   "outputs": [],
   "source": [
    "df2 = lp.parse_messages(x,bro_http)"
   ]
  },
  {
   "cell_type": "code",
   "execution_count": null,
   "metadata": {},
   "outputs": [],
   "source": [
    "df = df.append(df2) #let's append the two data frame above to each other"
   ]
  },
  {
   "cell_type": "code",
   "execution_count": null,
   "metadata": {},
   "outputs": [],
   "source": [
    "df = df.reset_index(drop=True)"
   ]
  },
  {
   "cell_type": "markdown",
   "metadata": {},
   "source": [
    "## We have parsed the logs and added them to a dataframe! We are ready to get started"
   ]
  },
  {
   "cell_type": "markdown",
   "metadata": {},
   "source": [
    "## Let's see what a dataframe even looks like"
   ]
  },
  {
   "cell_type": "code",
   "execution_count": null,
   "metadata": {},
   "outputs": [],
   "source": [
    "df.head()"
   ]
  },
  {
   "cell_type": "markdown",
   "metadata": {},
   "source": [
    "## This looks like a .csv file or excel spreadsheet"
   ]
  },
  {
   "cell_type": "code",
   "execution_count": null,
   "metadata": {},
   "outputs": [],
   "source": [
    "df.shape #How many rows, columns are in this dataframe"
   ]
  },
  {
   "cell_type": "code",
   "execution_count": null,
   "metadata": {},
   "outputs": [],
   "source": [
    "df.columns #what columns do we have"
   ]
  },
  {
   "cell_type": "markdown",
   "metadata": {},
   "source": [
    "## Pandas allows you to store different data types in the columns. This time, all of our data is stored as an object. (this will become important in a bit)"
   ]
  },
  {
   "cell_type": "code",
   "execution_count": null,
   "metadata": {},
   "outputs": [],
   "source": [
    "df.dtypes"
   ]
  },
  {
   "cell_type": "markdown",
   "metadata": {},
   "source": [
    "## Sort by time"
   ]
  },
  {
   "cell_type": "code",
   "execution_count": null,
   "metadata": {},
   "outputs": [],
   "source": [
    "df['time'] #let's see what our time column looks like"
   ]
  },
  {
   "cell_type": "markdown",
   "metadata": {},
   "source": [
    "## Looks like we had some NaN values (this just means it is empty for the most part). These could be things like headers, footers that were in the file when we imported or mis formatted logs. Regardless, we'll go ahead and drop any rows that have NaN in the time column."
   ]
  },
  {
   "cell_type": "code",
   "execution_count": null,
   "metadata": {},
   "outputs": [],
   "source": [
    "df = df[df['time'].notna()] #notna() is a built in function with pandas that can handle that"
   ]
  },
  {
   "cell_type": "code",
   "execution_count": null,
   "metadata": {},
   "outputs": [],
   "source": [
    "df.head()"
   ]
  },
  {
   "cell_type": "markdown",
   "metadata": {},
   "source": [
    "## Since zeek logs give us epoch time, let's convert to human readable using this function (we will apply the function later)"
   ]
  },
  {
   "cell_type": "code",
   "execution_count": null,
   "metadata": {},
   "outputs": [],
   "source": [
    "def getstandardtime(i):\n",
    "    c = datetime.datetime.fromtimestamp(int(i)).strftime('%Y-%m-%d %H:%M:%S')\n",
    "    return c"
   ]
  },
  {
   "cell_type": "markdown",
   "metadata": {},
   "source": [
    "## Insert a new row (technically not needed but showing you how to just because)"
   ]
  },
  {
   "cell_type": "code",
   "execution_count": null,
   "metadata": {},
   "outputs": [],
   "source": [
    "df.insert(2,'readable_event_time',\"\")"
   ]
  },
  {
   "cell_type": "code",
   "execution_count": null,
   "metadata": {},
   "outputs": [],
   "source": [
    "df.columns"
   ]
  },
  {
   "cell_type": "markdown",
   "metadata": {},
   "source": [
    "## Apply a user defined function"
   ]
  },
  {
   "cell_type": "code",
   "execution_count": null,
   "metadata": {},
   "outputs": [],
   "source": [
    "df['readable_event_time'] = df['time'].apply(getstandardtime) #apply the user-defined function to convert epoch time to regular time"
   ]
  },
  {
   "cell_type": "code",
   "execution_count": null,
   "metadata": {},
   "outputs": [],
   "source": [
    "df['readable_event_time'] #let's take a look"
   ]
  },
  {
   "cell_type": "code",
   "execution_count": null,
   "metadata": {},
   "outputs": [],
   "source": [
    "df['readable_event_time'] = pd.to_datetime(df['readable_event_time']) #make it a datetime object"
   ]
  },
  {
   "cell_type": "code",
   "execution_count": null,
   "metadata": {},
   "outputs": [],
   "source": [
    "df['readable_event_time'].head"
   ]
  },
  {
   "cell_type": "code",
   "execution_count": null,
   "metadata": {},
   "outputs": [],
   "source": [
    "df = df.sort_values(by='readable_event_time')"
   ]
  },
  {
   "cell_type": "code",
   "execution_count": null,
   "metadata": {},
   "outputs": [],
   "source": [
    "df.head(20)"
   ]
  },
  {
   "cell_type": "code",
   "execution_count": null,
   "metadata": {},
   "outputs": [],
   "source": [
    "df.groupby('domain')['src_ip'].value_counts()"
   ]
  },
  {
   "cell_type": "code",
   "execution_count": null,
   "metadata": {},
   "outputs": [],
   "source": [
    "df[df.domain.str.contains('\\.com$', regex=True, case=False, na=False)==False].domain"
   ]
  },
  {
   "cell_type": "code",
   "execution_count": null,
   "metadata": {},
   "outputs": [],
   "source": [
    "for i in df.dst_ip.unique():\n",
    "    print(i)"
   ]
  },
  {
   "cell_type": "code",
   "execution_count": null,
   "metadata": {},
   "outputs": [],
   "source": [
    "def abuse_ip_db(a):\n",
    "    import requests\n",
    "    import json\n",
    "    url = 'https://api.abuseipdb.com/api/v2/check'\n",
    "    querystring = {\n",
    "        'ipAddress': a,\n",
    "        'maxAgeInDays': '90'\n",
    "    }\n",
    "    headers = {\n",
    "        'Accept': 'application/json',\n",
    "        'Key': '[get your API key]'\n",
    "    }\n",
    "    response = requests.request(method='GET', url=url, headers=headers, params=querystring)\n",
    "    decodedResponse = json.loads(response.text)\n",
    "    num_times_reported = decodedResponse['data']['totalReports']\n",
    "    return num_times_reported"
   ]
  },
  {
   "cell_type": "code",
   "execution_count": null,
   "metadata": {},
   "outputs": [],
   "source": [
    "df['number_of_times_reported'] = df['dst_ip'].apply(abuse_ip_db)"
   ]
  },
  {
   "cell_type": "code",
   "execution_count": null,
   "metadata": {
    "scrolled": true
   },
   "outputs": [],
   "source": [
    "df[['dst_ip', 'number_of_times_reported']]"
   ]
  },
  {
   "cell_type": "code",
   "execution_count": null,
   "metadata": {},
   "outputs": [],
   "source": [
    "df[df['number_of_times_reported']>0].domain"
   ]
  },
  {
   "cell_type": "markdown",
   "metadata": {},
   "source": [
    "## Ok I have one lead"
   ]
  },
  {
   "cell_type": "code",
   "execution_count": null,
   "metadata": {},
   "outputs": [],
   "source": [
    "df.iloc[134]"
   ]
  },
  {
   "cell_type": "code",
   "execution_count": null,
   "metadata": {},
   "outputs": [],
   "source": [
    "print(df.iloc[134]['domain'] + df.iloc[134]['uri'] + '\\n\\n' + df.iloc[134]['raw_log'])"
   ]
  },
  {
   "cell_type": "code",
   "execution_count": null,
   "metadata": {},
   "outputs": [],
   "source": [
    "df[df['uri'].str.contains('(\\.exe|\\.tar|\\.cmd|\\.ps1)')].uri #extra"
   ]
  },
  {
   "cell_type": "markdown",
   "metadata": {},
   "source": [
    "## hxxps://otx.alienvault.com/indicator/domain/iamthewinnerhere.com"
   ]
  },
  {
   "cell_type": "markdown",
   "metadata": {},
   "source": [
    "## You can do plenty of other things as well with this using pandas (EXTRA)"
   ]
  },
  {
   "cell_type": "code",
   "execution_count": null,
   "metadata": {},
   "outputs": [],
   "source": [
    "for i in df.domain.unique():\n",
    "    print(i)\n",
    "    print(df[df['domain']==i].response_code.unique())\n",
    "    #df3 = df[df['domain'].notna()]\n",
    "    #print(i + ' : ' + df3[df3['domain']==i].response_code.values)"
   ]
  },
  {
   "cell_type": "code",
   "execution_count": null,
   "metadata": {},
   "outputs": [],
   "source": [
    "df.groupby('method')['domain'].value_counts()"
   ]
  },
  {
   "cell_type": "code",
   "execution_count": null,
   "metadata": {},
   "outputs": [],
   "source": [
    "df.dst_ip.describe()"
   ]
  },
  {
   "cell_type": "code",
   "execution_count": null,
   "metadata": {},
   "outputs": [],
   "source": [
    "df[df['dst_ip']=='199.19.251.164'].count()"
   ]
  },
  {
   "cell_type": "markdown",
   "metadata": {},
   "source": [
    "# Part 2 - Search using a definite list through logs"
   ]
  },
  {
   "cell_type": "markdown",
   "metadata": {},
   "source": [
    "There may be a time when you are handed a set of logs or events and you must sift through them with a known set of indicators. You may even want to label the rows that do have a hit with a threat name based on the IOC set you use. "
   ]
  },
  {
   "cell_type": "markdown",
   "metadata": {},
   "source": [
    "## First we will import a set of logs. This is especially useful when you have csv, excel, json files. "
   ]
  },
  {
   "cell_type": "code",
   "execution_count": null,
   "metadata": {},
   "outputs": [],
   "source": [
    "df_ioc = pd.read_csv('/Users/sacamero/Documents/Pandas class/pan_http.csv') #these are Palo Alto style logs"
   ]
  },
  {
   "cell_type": "code",
   "execution_count": null,
   "metadata": {},
   "outputs": [],
   "source": [
    "df_ioc.head(3) #Let's take a peek"
   ]
  },
  {
   "cell_type": "code",
   "execution_count": null,
   "metadata": {},
   "outputs": [],
   "source": [
    "df_ioc.columns #See what columns we have"
   ]
  },
  {
   "cell_type": "code",
   "execution_count": null,
   "metadata": {},
   "outputs": [],
   "source": [
    "df_ioc['Destination_address'].unique() #See what column stores out destinations"
   ]
  },
  {
   "cell_type": "code",
   "execution_count": null,
   "metadata": {},
   "outputs": [],
   "source": [
    "df_ioc['time'] = pd.to_datetime(df_ioc['Time_Logged']) #convert the time to datetime"
   ]
  },
  {
   "cell_type": "code",
   "execution_count": null,
   "metadata": {},
   "outputs": [],
   "source": [
    "df_ioc['time'].head() #take a peek"
   ]
  },
  {
   "cell_type": "markdown",
   "metadata": {},
   "source": [
    "## Now we will gather the IOCs we want. For this example, i used OTX (Alien Vault) but the idea is to just gather them into an array. Since I am importing from a text file, I have to manipulate them a bit\n",
    "\n",
    "\n",
    "IOC's gathered from: https://otx.alienvault.com/pulse/6172b098ff98e65aff9e496c (Trickbot)"
   ]
  },
  {
   "cell_type": "code",
   "execution_count": null,
   "metadata": {},
   "outputs": [],
   "source": [
    "x = []\n",
    "with open('/Users/sacamero/Documents/Pandas class/trickbot_iocs.txt') as f:\n",
    "    for line in f:\n",
    "        x.append(line)"
   ]
  },
  {
   "cell_type": "code",
   "execution_count": null,
   "metadata": {},
   "outputs": [],
   "source": [
    "x #take a look"
   ]
  },
  {
   "cell_type": "code",
   "execution_count": null,
   "metadata": {},
   "outputs": [],
   "source": [
    "iocs = [i.strip() for i in x] #get rid of those newline characters"
   ]
  },
  {
   "cell_type": "code",
   "execution_count": null,
   "metadata": {},
   "outputs": [],
   "source": [
    "iocs #Notice how we stripped the \\n"
   ]
  },
  {
   "cell_type": "markdown",
   "metadata": {},
   "source": [
    "## Now let's actually run the query to look at the Desintation address column for any occurences of the items in our array"
   ]
  },
  {
   "cell_type": "code",
   "execution_count": null,
   "metadata": {},
   "outputs": [],
   "source": [
    "df_hits = df_ioc.query(\"Destination_address in @iocs\")"
   ]
  },
  {
   "cell_type": "markdown",
   "metadata": {},
   "source": [
    "## Always a good idea to sort by time just for good measure"
   ]
  },
  {
   "cell_type": "code",
   "execution_count": null,
   "metadata": {},
   "outputs": [],
   "source": [
    "df_hits = df_hits.sort_values(by='Time_Logged') #then we will sort the df by time"
   ]
  },
  {
   "cell_type": "code",
   "execution_count": null,
   "metadata": {},
   "outputs": [],
   "source": [
    "df_hits.groupby('Source_address')['Destination_address'].value_counts() #having some fun looking at the different values"
   ]
  },
  {
   "cell_type": "code",
   "execution_count": null,
   "metadata": {},
   "outputs": [],
   "source": [
    "df_hits.groupby(['Source_address', 'Action'])['Destination_address'].value_counts() #having some fun looking at the different values"
   ]
  },
  {
   "cell_type": "code",
   "execution_count": null,
   "metadata": {},
   "outputs": [],
   "source": [
    "df_hits['time']"
   ]
  },
  {
   "cell_type": "code",
   "execution_count": null,
   "metadata": {},
   "outputs": [],
   "source": [
    "df_hits = df_hits.sort_values(by='time') #now sort just for good measure"
   ]
  },
  {
   "cell_type": "code",
   "execution_count": null,
   "metadata": {},
   "outputs": [],
   "source": [
    "df_hits.columns"
   ]
  },
  {
   "cell_type": "code",
   "execution_count": null,
   "metadata": {},
   "outputs": [],
   "source": [
    "df_hits.groupby(['time', 'Source_address'])['Destination_address'].value_counts()"
   ]
  },
  {
   "cell_type": "code",
   "execution_count": null,
   "metadata": {},
   "outputs": [],
   "source": [
    "df_hits.groupby(['Source_address'])['Destination_address'].count().plot(kind='bar', rot=45)"
   ]
  },
  {
   "cell_type": "markdown",
   "metadata": {},
   "source": [
    "## Last, we will put a bit of a spin on this. We will be searching through the logs and, if a match is found on an IOC, put a threat name label in a seperate column"
   ]
  },
  {
   "cell_type": "code",
   "execution_count": null,
   "metadata": {},
   "outputs": [],
   "source": [
    "#Qakbot\n",
    "#https://otx.alienvault.com/pulse/6176f6bc98ef0c3e11a12577\n",
    "\n",
    "#gather the IOCs into an array like before\n",
    "    \n",
    "qak = ['96.246.158.154','87.242.20.233','87.109.246.232','85.54.179.210','189.146.41.71','187.75.66.160','176.78.108.235']"
   ]
  },
  {
   "cell_type": "code",
   "execution_count": null,
   "metadata": {},
   "outputs": [],
   "source": [
    "#Gandcrab\n",
    "#https://otx.alienvault.com/pulse/6173bc47718ff040c23d6ab9\n",
    "\n",
    "#gather the IOCs into an array like before\n",
    "    \n",
    "gan = ['13.107.42.12','160.72.43.240','185.7.214.212','211.231.108.46','45.9.20.178','51.81.57.58','74.208.5.20']"
   ]
  },
  {
   "cell_type": "code",
   "execution_count": null,
   "metadata": {},
   "outputs": [],
   "source": [
    "df_ioc.query('Destination_address in @qak') # we can see that we do, in fact have hits for Qakbot"
   ]
  },
  {
   "cell_type": "code",
   "execution_count": null,
   "metadata": {},
   "outputs": [],
   "source": [
    "df_ioc.query('Destination_address in @gan') # we can see that we do, in fact have hits for Gandcrab"
   ]
  },
  {
   "cell_type": "code",
   "execution_count": null,
   "metadata": {},
   "outputs": [],
   "source": [
    "for i in qak:\n",
    "    df_ioc.loc[df_ioc['Destination_address'].str.contains(i), 'threat_name'] = 'Qakbot'"
   ]
  },
  {
   "cell_type": "code",
   "execution_count": null,
   "metadata": {},
   "outputs": [],
   "source": [
    "for i in gan:\n",
    "    df_ioc.loc[df_ioc['Destination_address'].str.contains(i), 'threat_name'] = 'Gandcrab'"
   ]
  },
  {
   "cell_type": "code",
   "execution_count": null,
   "metadata": {},
   "outputs": [],
   "source": [
    "df_ioc[['time','Source_address', 'Destination_address', 'threat_name']]"
   ]
  },
  {
   "cell_type": "code",
   "execution_count": null,
   "metadata": {},
   "outputs": [],
   "source": [
    "df_ioc['threat_name'].value_counts()"
   ]
  },
  {
   "cell_type": "code",
   "execution_count": null,
   "metadata": {},
   "outputs": [],
   "source": [
    "df_ioc.groupby(['threat_name','Source_address'])['Destination_address'].value_counts()"
   ]
  },
  {
   "cell_type": "code",
   "execution_count": null,
   "metadata": {},
   "outputs": [],
   "source": [
    "df_ioc[['time', 'Source_address', 'Destination_address', 'threat_name']]"
   ]
  },
  {
   "cell_type": "markdown",
   "metadata": {},
   "source": [
    "# That's it folks"
   ]
  },
  {
   "cell_type": "code",
   "execution_count": null,
   "metadata": {},
   "outputs": [],
   "source": [
    "# If you are curious as to what log parser is, this is the function \n",
    "\n",
    "import re\n",
    "import pandas as pd\n",
    "\n",
    "def parse_message(message,*args):\n",
    "\n",
    "    parsed = {}\n",
    "\n",
    "    parsed['raw_log'] = message\n",
    "    for pattern in args:\n",
    "        m = pattern.search(message)\n",
    "        if m:\n",
    "            parsed.update(m.groupdict())\n",
    "        else:\n",
    "            continue\n",
    "\n",
    "    return parsed\n",
    "\n",
    "def parse_messages(messages,*args):\n",
    "    return pd.DataFrame([parse_message(message,*args) for message in messages])"
   ]
  },
  {
   "cell_type": "code",
   "execution_count": null,
   "metadata": {},
   "outputs": [],
   "source": [
    "## There are many other ways to read files into a dataframe if you have logs that are already parsed. Here is an example of doing it with json parsed data\n",
    "\n",
    "\n",
    "df_json_import = pd.read_json('/Users/sacamero/Documents/Pandas class/empire_shell_net_local_users_2020-09-21192606.json', lines=True)\n",
    "\n",
    "#gathered from https://github.com/OTRF/Security-Datasets/tree/master/datasets/atomic/windows/*\n"
   ]
  },
  {
   "cell_type": "code",
   "execution_count": null,
   "metadata": {},
   "outputs": [],
   "source": [
    "df_json_import"
   ]
  },
  {
   "cell_type": "code",
   "execution_count": null,
   "metadata": {},
   "outputs": [],
   "source": []
  }
 ],
 "metadata": {
  "kernelspec": {
   "display_name": "Python 3",
   "language": "python",
   "name": "python3"
  },
  "language_info": {
   "codemirror_mode": {
    "name": "ipython",
    "version": 3
   },
   "file_extension": ".py",
   "mimetype": "text/x-python",
   "name": "python",
   "nbconvert_exporter": "python",
   "pygments_lexer": "ipython3",
   "version": "3.8.5"
  }
 },
 "nbformat": 4,
 "nbformat_minor": 4
}
